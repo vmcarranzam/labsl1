{
  "nbformat": 4,
  "nbformat_minor": 0,
  "metadata": {
    "colab": {
      "provenance": [],
      "authorship_tag": "ABX9TyN0X8lQb5A0wZi30BlTMdxR",
      "include_colab_link": true
    },
    "kernelspec": {
      "name": "python3",
      "display_name": "Python 3"
    },
    "language_info": {
      "name": "python"
    }
  },
  "cells": [
    {
      "cell_type": "markdown",
      "metadata": {
        "id": "view-in-github",
        "colab_type": "text"
      },
      "source": [
        "<a href=\"https://colab.research.google.com/github/vmcarranzam/labsl1/blob/main/Examen_Parcial_1.ipynb\" target=\"_parent\"><img src=\"https://colab.research.google.com/assets/colab-badge.svg\" alt=\"Open In Colab\"/></a>"
      ]
    },
    {
      "cell_type": "markdown",
      "source": [
        "#1. ¿Qué es Machine Learning?"
      ],
      "metadata": {
        "id": "-Nbqb1RlG3n6"
      }
    },
    {
      "cell_type": "markdown",
      "source": [
        "Es un conjunto de técnicas basadas en algoritmos que crean modelos de forma iterativa a partir de sets de datos para  permitirle a las computadoras \"aprender\" y predecir resultados, sin programar de forma explícita dichos modelos."
      ],
      "metadata": {
        "id": "XuedzIi2HHDr"
      }
    },
    {
      "cell_type": "markdown",
      "source": [
        "#2. Liste los tipos de aprendizaje de máquina\n"
      ],
      "metadata": {
        "id": "c25IZ4FtHKL2"
      }
    },
    {
      "cell_type": "markdown",
      "source": [
        "Supervisado y No supervisado"
      ],
      "metadata": {
        "id": "QRX6WpBZHKDw"
      }
    },
    {
      "cell_type": "markdown",
      "source": [
        "#3. ¿Cuál es la diferencia entre AI y ML?\n"
      ],
      "metadata": {
        "id": "56imwHdIHJ7F"
      }
    },
    {
      "cell_type": "markdown",
      "source": [
        "La Inteligencia Artificial es una rama amplia de las ciencias de la computación  que abarca las técnicas utilizadas para dotar de inteligencia a una computadora, emulando procesos cognitivos. Machine Learning es una sub-rama de la Inteligencia artificial, por lo que abarca solo un sub-grupo de las áreas de interés de la misma, particularmente los algoritmos para que una computadora pueda \"aprender\" basándose en datos."
      ],
      "metadata": {
        "id": "8-XbEGDQHJxI"
      }
    },
    {
      "cell_type": "markdown",
      "source": [
        "#4.  Describa brevemente como se realiza un modelo de predicción para ML\n"
      ],
      "metadata": {
        "id": "j1VFte0sK0nK"
      }
    },
    {
      "cell_type": "markdown",
      "source": [
        "1. Se realiza exploración de datos para entender mejor las variables y entradas que contienen el o los datasets a utilizar.\n",
        "2. Se determina el tipo de modelo a utilizar y las métricas de validación correspondiente, según lo que se busca con el mismo.\n",
        "3. Se elige la forma de separación del dataset en sub-sets de entrenamiento y sub-sets de validación (Kfold, división porcentual aleatoria, etc)\n",
        "4. Se entrena el modelo con los datos elegidos para entrenamiento.\n",
        "5. Se realizan pruebas de validación del modelo con el o los sub-sets de validación.\n",
        "6. Se decide, según las métricas determinadas, si el modelo es preciso, si está sobre ajustado o si no es útil."
      ],
      "metadata": {
        "id": "YjQ46BLuK0j3"
      }
    },
    {
      "cell_type": "markdown",
      "source": [
        "#5. Describa dos algoritmos de ML y dos de sus aplicaciones.\n"
      ],
      "metadata": {
        "id": "T7sfO7l-K0aJ"
      }
    },
    {
      "cell_type": "markdown",
      "source": [
        "Regresión Lineal: algoritmo que utiliza las entradas de una o más variables independientes para calcular los coeficientes (pendiente e intercepto) de una recta que se aproxima a la distribución de datos utilizada para el entrenamiento. Es útil para predicción de valores continuos como precios de casas ó precios de acciones.\n",
        "\n",
        "Clustering: algoritmo que separa las entradas de las variables independientes en grupos o clusters según sus similitudes. Puede ser útil para realizar segmentaciones óptimas de audiencias en campañas de marketing y categorización de clientes para sistemas de sugerencias."
      ],
      "metadata": {
        "id": "jZwQBQCoK0U2"
      }
    },
    {
      "cell_type": "markdown",
      "source": [
        "#6. ¿Cómo se calcula los \u001d𝜃s en una regresión lineal?\n"
      ],
      "metadata": {
        "id": "BhjEWlkIK0PI"
      }
    },
    {
      "cell_type": "markdown",
      "source": [
        "Se calculan utilizando el algoritmo de gradiente decreciente, que itera para determinar los coeficientes para la recta que minimizan el error en la predicción del modelo."
      ],
      "metadata": {
        "id": "ZUcULiqYK0JL"
      }
    },
    {
      "cell_type": "markdown",
      "source": [
        "#7. ¿Qué es \"ACCURACY\" en un modelo de ML?\n"
      ],
      "metadata": {
        "id": "2zy0TCg7K0Dn"
      }
    },
    {
      "cell_type": "markdown",
      "source": [
        "Es una métrica usada para medir el rendimiento de un modelo de aprendizaje de máquina. Consiste en el cálculo de la proporción de predicciones correctas realizadas por el modelo en el grupo de datos utilizados para validar."
      ],
      "metadata": {
        "id": "fnVhkwoXKz7z"
      }
    },
    {
      "cell_type": "markdown",
      "source": [
        "#8. ¿Cómo funciona K-FOLD CROSS VALIDATION?\n"
      ],
      "metadata": {
        "id": "oe9Z4XBBKzsA"
      }
    },
    {
      "cell_type": "markdown",
      "source": [
        "La  técnica de validación cruzada de K-pliegues o grupos consiste en dividir el dataset empleado en K grupos de datos de tamaños aproximadamente iguales, para luego utilizar uno de ellos por iteración como el grupo de datos de validación, mientras todo el resto es utilizado para entrenar al modelo. La parte de validación consiste en comparar las métricas de rendimiento de los K-modelos  entrenados y elegir aquel que tenga las mejores."
      ],
      "metadata": {
        "id": "sUINfAPWKzc3"
      }
    },
    {
      "cell_type": "markdown",
      "source": [
        "#9. ¿Cómo se determina si el problema es lineal o no lineal en algoritmos de ML?\n"
      ],
      "metadata": {
        "id": "eJuPKQdgLTgu"
      }
    },
    {
      "cell_type": "markdown",
      "source": [
        "Se determina la linealidad de un problema analizando la relación entre las variables independientes y la dependiente. Si es posible trazar una línea recta que modele de forma precisa el comportamiento de los datos del problema, se trata de un modelo lineal, de lo contrario, si se requiere de otro tipo de función no lineal para modelar el comportamiento, se trata de un modelo no lineal."
      ],
      "metadata": {
        "id": "rIFN6_ZzLTcw"
      }
    },
    {
      "cell_type": "markdown",
      "source": [
        "#10. ¿Cómo se selecciona el \"K\" correcto para el algoritmo K-Nearest?\n"
      ],
      "metadata": {
        "id": "fIVy4WFpLTYB"
      }
    },
    {
      "cell_type": "markdown",
      "source": [
        "Puede seleccionarse de forma heurística, empezando desde un valor bajo, aumentándolo iterativamente y observar el cambio en el rendimiento del modelo obtenido.\n",
        "\n",
        "También es usual que se seleccione calculando la raíz cuadrada del número de muestras o datos utilizados para el entrenamiento."
      ],
      "metadata": {
        "id": "O9dyTFyELTTn"
      }
    },
    {
      "cell_type": "markdown",
      "source": [
        "#11. Usted esta interpretando el resultado de un algoritmo de ML que categoriza pacientes de enfermedades terminales, la matriz de confusión devolvio el valor TP con 8 y FN con 15, ¿qué podría concluir del modelo?\n"
      ],
      "metadata": {
        "id": "bJK7OQHZLTMz"
      }
    },
    {
      "cell_type": "markdown",
      "source": [
        "El modelo predice correctamente solamente un aproximado de 1/3 de las ocasiones mientras que lo hace de forma errónea (falsos negativos) 2/3 de las veces. Tratándose de enfermedades terminales, el modelo es poco confiable para ser considerado útil."
      ],
      "metadata": {
        "id": "q3c08_EOLTHA"
      }
    },
    {
      "cell_type": "markdown",
      "source": [
        "#12. Usted esta interpretando un modelo de ML que tiene un F1-SCORE de 1, ¿qué podria concluir del modelo?\n"
      ],
      "metadata": {
        "id": "zYWlkoftLTDT"
      }
    },
    {
      "cell_type": "markdown",
      "source": [
        "Que el modelo está sobreajustado o que se utilizaron los datos de entrenamiento como datos de validación."
      ],
      "metadata": {
        "id": "ShEfI9KVLTAC"
      }
    },
    {
      "cell_type": "markdown",
      "source": [
        "#13. ¿Utilizaría un Decision Tree para obtener un resultado predictivo y asi clasificar a la variable dependiente? Justifique su respuesta.\n"
      ],
      "metadata": {
        "id": "adtVUa3WLS77"
      }
    },
    {
      "cell_type": "markdown",
      "source": [
        "Si, el algoritmo de árbol de decisión es útil tanto para clasificación como para regresión. Es sencillo de comprender e interpretar debido a que tiene parecido con el flujo de toma de decisiones lógicas cotidianas y puede ser utilizado con variables categóricas y numéricas."
      ],
      "metadata": {
        "id": "hX4UWdlZLS1A"
      }
    },
    {
      "cell_type": "markdown",
      "source": [
        "#14. Explique los indicadores obtenidos de la matriz de confusión."
      ],
      "metadata": {
        "id": "gRl81dxrLSue"
      }
    },
    {
      "cell_type": "markdown",
      "source": [
        "* TP: Verdaderos positivos, representa el número de datos correctamente clasificados como verdaderos.\n",
        "\n",
        "* TN: Verdaderos negativos, representa el número de datos correctamente clasificados como falsos.\n",
        "\n",
        "* FP: Falsos positivos, error tipo I, representa el número de datos incorrectamente clasificados como positivos.\n",
        "\n",
        "* FN: Falsos negativos, error tipo II, representa el número de datos incorrectamente clasificados como negativos.\n",
        "\n",
        "* Accuracy: precisión del modelo al realizar predicciones, (TP + TN) / (TP + TN + FP + FN)\n",
        "\n",
        "* Recall o Sensibilidad: capacidad del modelo para detectar o clasificar correctamente positivos, TP / (TP + FN)\n",
        "\n",
        "* Especificidad: capacidad del modelopara detectar o clasificar correctamente negativos, TN / (TN + FP)\n",
        "\n",
        "* F1 Score: combinación de precisión y sensibilidad en una sola métrica, 2 * (Precision * Recall) / (Precision + Recall)"
      ],
      "metadata": {
        "id": "GKyyp6ZlLSkR"
      }
    },
    {
      "cell_type": "markdown",
      "source": [
        "#Ejercicio 1"
      ],
      "metadata": {
        "id": "pTgop5sYs0z1"
      }
    },
    {
      "cell_type": "code",
      "source": [
        "import numpy as np\n",
        "import pandas as pd\n",
        "import sklearn"
      ],
      "metadata": {
        "id": "lQmoCXMss27V"
      },
      "execution_count": 1,
      "outputs": []
    },
    {
      "cell_type": "code",
      "source": [
        "df = pd.read_csv(\"dataset_31_credit-g_2_.csv\")\n",
        "df"
      ],
      "metadata": {
        "colab": {
          "base_uri": "https://localhost:8080/",
          "height": 627
        },
        "id": "fVcoiK4XtWnz",
        "outputId": "bb1e2383-ef48-4264-90cd-dfb11b281669"
      },
      "execution_count": 6,
      "outputs": [
        {
          "output_type": "execute_result",
          "data": {
            "text/plain": [
              "    checking_status  duration                    credit_history  \\\n",
              "0              '<0'         6  'critical/other existing credit'   \n",
              "1        '0<=X<200'        48                   'existing paid'   \n",
              "2     'no checking'        12  'critical/other existing credit'   \n",
              "3              '<0'        42                   'existing paid'   \n",
              "4              '<0'        24              'delayed previously'   \n",
              "..              ...       ...                               ...   \n",
              "995   'no checking'        12                   'existing paid'   \n",
              "996            '<0'        30                   'existing paid'   \n",
              "997   'no checking'        12                   'existing paid'   \n",
              "998            '<0'        45                   'existing paid'   \n",
              "999      '0<=X<200'        45  'critical/other existing credit'   \n",
              "\n",
              "                 purpose  credit_amount      savings_status  employment  \\\n",
              "0               radio/tv           1169  'no known savings'       '>=7'   \n",
              "1               radio/tv           5951              '<100'    '1<=X<4'   \n",
              "2              education           2096              '<100'    '4<=X<7'   \n",
              "3    furniture/equipment           7882              '<100'    '4<=X<7'   \n",
              "4              'new car'           4870              '<100'    '1<=X<4'   \n",
              "..                   ...            ...                 ...         ...   \n",
              "995  furniture/equipment           1736              '<100'    '4<=X<7'   \n",
              "996           'used car'           3857              '<100'    '1<=X<4'   \n",
              "997             radio/tv            804              '<100'       '>=7'   \n",
              "998             radio/tv           1845              '<100'    '1<=X<4'   \n",
              "999           'used car'           4576        '100<=X<500'  unemployed   \n",
              "\n",
              "     installment_commitment       personal_status other_parties  ...  \\\n",
              "0                         4         'male single'          none  ...   \n",
              "1                         2  'female div/dep/mar'          none  ...   \n",
              "2                         2         'male single'          none  ...   \n",
              "3                         2         'male single'     guarantor  ...   \n",
              "4                         3         'male single'          none  ...   \n",
              "..                      ...                   ...           ...  ...   \n",
              "995                       3  'female div/dep/mar'          none  ...   \n",
              "996                       4        'male div/sep'          none  ...   \n",
              "997                       4         'male single'          none  ...   \n",
              "998                       4         'male single'          none  ...   \n",
              "999                       3         'male single'          none  ...   \n",
              "\n",
              "      property_magnitude age  other_payment_plans     housing  \\\n",
              "0          'real estate'  67                 none         own   \n",
              "1          'real estate'  22                 none         own   \n",
              "2          'real estate'  49                 none         own   \n",
              "3       'life insurance'  45                 none  'for free'   \n",
              "4    'no known property'  53                 none  'for free'   \n",
              "..                   ...  ..                  ...         ...   \n",
              "995        'real estate'  31                 none         own   \n",
              "996     'life insurance'  40                 none         own   \n",
              "997                  car  38                 none         own   \n",
              "998  'no known property'  23                 none  'for free'   \n",
              "999                  car  27                 none         own   \n",
              "\n",
              "    existing_credits                          job num_dependents  \\\n",
              "0                  2                      skilled              1   \n",
              "1                  1                      skilled              1   \n",
              "2                  1         'unskilled resident'              2   \n",
              "3                  1                      skilled              2   \n",
              "4                  2                      skilled              2   \n",
              "..               ...                          ...            ...   \n",
              "995                1         'unskilled resident'              1   \n",
              "996                1  'high qualif/self emp/mgmt'              1   \n",
              "997                1                      skilled              1   \n",
              "998                1                      skilled              1   \n",
              "999                1                      skilled              1   \n",
              "\n",
              "     own_telephone foreign_worker class  \n",
              "0              yes            yes  good  \n",
              "1             none            yes   bad  \n",
              "2             none            yes  good  \n",
              "3             none            yes  good  \n",
              "4             none            yes   bad  \n",
              "..             ...            ...   ...  \n",
              "995           none            yes  good  \n",
              "996            yes            yes  good  \n",
              "997           none            yes  good  \n",
              "998            yes            yes   bad  \n",
              "999           none            yes  good  \n",
              "\n",
              "[1000 rows x 21 columns]"
            ],
            "text/html": [
              "\n",
              "  <div id=\"df-ec755f86-bef0-4a0e-98d0-0c1a47989864\">\n",
              "    <div class=\"colab-df-container\">\n",
              "      <div>\n",
              "<style scoped>\n",
              "    .dataframe tbody tr th:only-of-type {\n",
              "        vertical-align: middle;\n",
              "    }\n",
              "\n",
              "    .dataframe tbody tr th {\n",
              "        vertical-align: top;\n",
              "    }\n",
              "\n",
              "    .dataframe thead th {\n",
              "        text-align: right;\n",
              "    }\n",
              "</style>\n",
              "<table border=\"1\" class=\"dataframe\">\n",
              "  <thead>\n",
              "    <tr style=\"text-align: right;\">\n",
              "      <th></th>\n",
              "      <th>checking_status</th>\n",
              "      <th>duration</th>\n",
              "      <th>credit_history</th>\n",
              "      <th>purpose</th>\n",
              "      <th>credit_amount</th>\n",
              "      <th>savings_status</th>\n",
              "      <th>employment</th>\n",
              "      <th>installment_commitment</th>\n",
              "      <th>personal_status</th>\n",
              "      <th>other_parties</th>\n",
              "      <th>...</th>\n",
              "      <th>property_magnitude</th>\n",
              "      <th>age</th>\n",
              "      <th>other_payment_plans</th>\n",
              "      <th>housing</th>\n",
              "      <th>existing_credits</th>\n",
              "      <th>job</th>\n",
              "      <th>num_dependents</th>\n",
              "      <th>own_telephone</th>\n",
              "      <th>foreign_worker</th>\n",
              "      <th>class</th>\n",
              "    </tr>\n",
              "  </thead>\n",
              "  <tbody>\n",
              "    <tr>\n",
              "      <th>0</th>\n",
              "      <td>'&lt;0'</td>\n",
              "      <td>6</td>\n",
              "      <td>'critical/other existing credit'</td>\n",
              "      <td>radio/tv</td>\n",
              "      <td>1169</td>\n",
              "      <td>'no known savings'</td>\n",
              "      <td>'&gt;=7'</td>\n",
              "      <td>4</td>\n",
              "      <td>'male single'</td>\n",
              "      <td>none</td>\n",
              "      <td>...</td>\n",
              "      <td>'real estate'</td>\n",
              "      <td>67</td>\n",
              "      <td>none</td>\n",
              "      <td>own</td>\n",
              "      <td>2</td>\n",
              "      <td>skilled</td>\n",
              "      <td>1</td>\n",
              "      <td>yes</td>\n",
              "      <td>yes</td>\n",
              "      <td>good</td>\n",
              "    </tr>\n",
              "    <tr>\n",
              "      <th>1</th>\n",
              "      <td>'0&lt;=X&lt;200'</td>\n",
              "      <td>48</td>\n",
              "      <td>'existing paid'</td>\n",
              "      <td>radio/tv</td>\n",
              "      <td>5951</td>\n",
              "      <td>'&lt;100'</td>\n",
              "      <td>'1&lt;=X&lt;4'</td>\n",
              "      <td>2</td>\n",
              "      <td>'female div/dep/mar'</td>\n",
              "      <td>none</td>\n",
              "      <td>...</td>\n",
              "      <td>'real estate'</td>\n",
              "      <td>22</td>\n",
              "      <td>none</td>\n",
              "      <td>own</td>\n",
              "      <td>1</td>\n",
              "      <td>skilled</td>\n",
              "      <td>1</td>\n",
              "      <td>none</td>\n",
              "      <td>yes</td>\n",
              "      <td>bad</td>\n",
              "    </tr>\n",
              "    <tr>\n",
              "      <th>2</th>\n",
              "      <td>'no checking'</td>\n",
              "      <td>12</td>\n",
              "      <td>'critical/other existing credit'</td>\n",
              "      <td>education</td>\n",
              "      <td>2096</td>\n",
              "      <td>'&lt;100'</td>\n",
              "      <td>'4&lt;=X&lt;7'</td>\n",
              "      <td>2</td>\n",
              "      <td>'male single'</td>\n",
              "      <td>none</td>\n",
              "      <td>...</td>\n",
              "      <td>'real estate'</td>\n",
              "      <td>49</td>\n",
              "      <td>none</td>\n",
              "      <td>own</td>\n",
              "      <td>1</td>\n",
              "      <td>'unskilled resident'</td>\n",
              "      <td>2</td>\n",
              "      <td>none</td>\n",
              "      <td>yes</td>\n",
              "      <td>good</td>\n",
              "    </tr>\n",
              "    <tr>\n",
              "      <th>3</th>\n",
              "      <td>'&lt;0'</td>\n",
              "      <td>42</td>\n",
              "      <td>'existing paid'</td>\n",
              "      <td>furniture/equipment</td>\n",
              "      <td>7882</td>\n",
              "      <td>'&lt;100'</td>\n",
              "      <td>'4&lt;=X&lt;7'</td>\n",
              "      <td>2</td>\n",
              "      <td>'male single'</td>\n",
              "      <td>guarantor</td>\n",
              "      <td>...</td>\n",
              "      <td>'life insurance'</td>\n",
              "      <td>45</td>\n",
              "      <td>none</td>\n",
              "      <td>'for free'</td>\n",
              "      <td>1</td>\n",
              "      <td>skilled</td>\n",
              "      <td>2</td>\n",
              "      <td>none</td>\n",
              "      <td>yes</td>\n",
              "      <td>good</td>\n",
              "    </tr>\n",
              "    <tr>\n",
              "      <th>4</th>\n",
              "      <td>'&lt;0'</td>\n",
              "      <td>24</td>\n",
              "      <td>'delayed previously'</td>\n",
              "      <td>'new car'</td>\n",
              "      <td>4870</td>\n",
              "      <td>'&lt;100'</td>\n",
              "      <td>'1&lt;=X&lt;4'</td>\n",
              "      <td>3</td>\n",
              "      <td>'male single'</td>\n",
              "      <td>none</td>\n",
              "      <td>...</td>\n",
              "      <td>'no known property'</td>\n",
              "      <td>53</td>\n",
              "      <td>none</td>\n",
              "      <td>'for free'</td>\n",
              "      <td>2</td>\n",
              "      <td>skilled</td>\n",
              "      <td>2</td>\n",
              "      <td>none</td>\n",
              "      <td>yes</td>\n",
              "      <td>bad</td>\n",
              "    </tr>\n",
              "    <tr>\n",
              "      <th>...</th>\n",
              "      <td>...</td>\n",
              "      <td>...</td>\n",
              "      <td>...</td>\n",
              "      <td>...</td>\n",
              "      <td>...</td>\n",
              "      <td>...</td>\n",
              "      <td>...</td>\n",
              "      <td>...</td>\n",
              "      <td>...</td>\n",
              "      <td>...</td>\n",
              "      <td>...</td>\n",
              "      <td>...</td>\n",
              "      <td>...</td>\n",
              "      <td>...</td>\n",
              "      <td>...</td>\n",
              "      <td>...</td>\n",
              "      <td>...</td>\n",
              "      <td>...</td>\n",
              "      <td>...</td>\n",
              "      <td>...</td>\n",
              "      <td>...</td>\n",
              "    </tr>\n",
              "    <tr>\n",
              "      <th>995</th>\n",
              "      <td>'no checking'</td>\n",
              "      <td>12</td>\n",
              "      <td>'existing paid'</td>\n",
              "      <td>furniture/equipment</td>\n",
              "      <td>1736</td>\n",
              "      <td>'&lt;100'</td>\n",
              "      <td>'4&lt;=X&lt;7'</td>\n",
              "      <td>3</td>\n",
              "      <td>'female div/dep/mar'</td>\n",
              "      <td>none</td>\n",
              "      <td>...</td>\n",
              "      <td>'real estate'</td>\n",
              "      <td>31</td>\n",
              "      <td>none</td>\n",
              "      <td>own</td>\n",
              "      <td>1</td>\n",
              "      <td>'unskilled resident'</td>\n",
              "      <td>1</td>\n",
              "      <td>none</td>\n",
              "      <td>yes</td>\n",
              "      <td>good</td>\n",
              "    </tr>\n",
              "    <tr>\n",
              "      <th>996</th>\n",
              "      <td>'&lt;0'</td>\n",
              "      <td>30</td>\n",
              "      <td>'existing paid'</td>\n",
              "      <td>'used car'</td>\n",
              "      <td>3857</td>\n",
              "      <td>'&lt;100'</td>\n",
              "      <td>'1&lt;=X&lt;4'</td>\n",
              "      <td>4</td>\n",
              "      <td>'male div/sep'</td>\n",
              "      <td>none</td>\n",
              "      <td>...</td>\n",
              "      <td>'life insurance'</td>\n",
              "      <td>40</td>\n",
              "      <td>none</td>\n",
              "      <td>own</td>\n",
              "      <td>1</td>\n",
              "      <td>'high qualif/self emp/mgmt'</td>\n",
              "      <td>1</td>\n",
              "      <td>yes</td>\n",
              "      <td>yes</td>\n",
              "      <td>good</td>\n",
              "    </tr>\n",
              "    <tr>\n",
              "      <th>997</th>\n",
              "      <td>'no checking'</td>\n",
              "      <td>12</td>\n",
              "      <td>'existing paid'</td>\n",
              "      <td>radio/tv</td>\n",
              "      <td>804</td>\n",
              "      <td>'&lt;100'</td>\n",
              "      <td>'&gt;=7'</td>\n",
              "      <td>4</td>\n",
              "      <td>'male single'</td>\n",
              "      <td>none</td>\n",
              "      <td>...</td>\n",
              "      <td>car</td>\n",
              "      <td>38</td>\n",
              "      <td>none</td>\n",
              "      <td>own</td>\n",
              "      <td>1</td>\n",
              "      <td>skilled</td>\n",
              "      <td>1</td>\n",
              "      <td>none</td>\n",
              "      <td>yes</td>\n",
              "      <td>good</td>\n",
              "    </tr>\n",
              "    <tr>\n",
              "      <th>998</th>\n",
              "      <td>'&lt;0'</td>\n",
              "      <td>45</td>\n",
              "      <td>'existing paid'</td>\n",
              "      <td>radio/tv</td>\n",
              "      <td>1845</td>\n",
              "      <td>'&lt;100'</td>\n",
              "      <td>'1&lt;=X&lt;4'</td>\n",
              "      <td>4</td>\n",
              "      <td>'male single'</td>\n",
              "      <td>none</td>\n",
              "      <td>...</td>\n",
              "      <td>'no known property'</td>\n",
              "      <td>23</td>\n",
              "      <td>none</td>\n",
              "      <td>'for free'</td>\n",
              "      <td>1</td>\n",
              "      <td>skilled</td>\n",
              "      <td>1</td>\n",
              "      <td>yes</td>\n",
              "      <td>yes</td>\n",
              "      <td>bad</td>\n",
              "    </tr>\n",
              "    <tr>\n",
              "      <th>999</th>\n",
              "      <td>'0&lt;=X&lt;200'</td>\n",
              "      <td>45</td>\n",
              "      <td>'critical/other existing credit'</td>\n",
              "      <td>'used car'</td>\n",
              "      <td>4576</td>\n",
              "      <td>'100&lt;=X&lt;500'</td>\n",
              "      <td>unemployed</td>\n",
              "      <td>3</td>\n",
              "      <td>'male single'</td>\n",
              "      <td>none</td>\n",
              "      <td>...</td>\n",
              "      <td>car</td>\n",
              "      <td>27</td>\n",
              "      <td>none</td>\n",
              "      <td>own</td>\n",
              "      <td>1</td>\n",
              "      <td>skilled</td>\n",
              "      <td>1</td>\n",
              "      <td>none</td>\n",
              "      <td>yes</td>\n",
              "      <td>good</td>\n",
              "    </tr>\n",
              "  </tbody>\n",
              "</table>\n",
              "<p>1000 rows × 21 columns</p>\n",
              "</div>\n",
              "      <button class=\"colab-df-convert\" onclick=\"convertToInteractive('df-ec755f86-bef0-4a0e-98d0-0c1a47989864')\"\n",
              "              title=\"Convert this dataframe to an interactive table.\"\n",
              "              style=\"display:none;\">\n",
              "        \n",
              "  <svg xmlns=\"http://www.w3.org/2000/svg\" height=\"24px\"viewBox=\"0 0 24 24\"\n",
              "       width=\"24px\">\n",
              "    <path d=\"M0 0h24v24H0V0z\" fill=\"none\"/>\n",
              "    <path d=\"M18.56 5.44l.94 2.06.94-2.06 2.06-.94-2.06-.94-.94-2.06-.94 2.06-2.06.94zm-11 1L8.5 8.5l.94-2.06 2.06-.94-2.06-.94L8.5 2.5l-.94 2.06-2.06.94zm10 10l.94 2.06.94-2.06 2.06-.94-2.06-.94-.94-2.06-.94 2.06-2.06.94z\"/><path d=\"M17.41 7.96l-1.37-1.37c-.4-.4-.92-.59-1.43-.59-.52 0-1.04.2-1.43.59L10.3 9.45l-7.72 7.72c-.78.78-.78 2.05 0 2.83L4 21.41c.39.39.9.59 1.41.59.51 0 1.02-.2 1.41-.59l7.78-7.78 2.81-2.81c.8-.78.8-2.07 0-2.86zM5.41 20L4 18.59l7.72-7.72 1.47 1.35L5.41 20z\"/>\n",
              "  </svg>\n",
              "      </button>\n",
              "      \n",
              "  <style>\n",
              "    .colab-df-container {\n",
              "      display:flex;\n",
              "      flex-wrap:wrap;\n",
              "      gap: 12px;\n",
              "    }\n",
              "\n",
              "    .colab-df-convert {\n",
              "      background-color: #E8F0FE;\n",
              "      border: none;\n",
              "      border-radius: 50%;\n",
              "      cursor: pointer;\n",
              "      display: none;\n",
              "      fill: #1967D2;\n",
              "      height: 32px;\n",
              "      padding: 0 0 0 0;\n",
              "      width: 32px;\n",
              "    }\n",
              "\n",
              "    .colab-df-convert:hover {\n",
              "      background-color: #E2EBFA;\n",
              "      box-shadow: 0px 1px 2px rgba(60, 64, 67, 0.3), 0px 1px 3px 1px rgba(60, 64, 67, 0.15);\n",
              "      fill: #174EA6;\n",
              "    }\n",
              "\n",
              "    [theme=dark] .colab-df-convert {\n",
              "      background-color: #3B4455;\n",
              "      fill: #D2E3FC;\n",
              "    }\n",
              "\n",
              "    [theme=dark] .colab-df-convert:hover {\n",
              "      background-color: #434B5C;\n",
              "      box-shadow: 0px 1px 3px 1px rgba(0, 0, 0, 0.15);\n",
              "      filter: drop-shadow(0px 1px 2px rgba(0, 0, 0, 0.3));\n",
              "      fill: #FFFFFF;\n",
              "    }\n",
              "  </style>\n",
              "\n",
              "      <script>\n",
              "        const buttonEl =\n",
              "          document.querySelector('#df-ec755f86-bef0-4a0e-98d0-0c1a47989864 button.colab-df-convert');\n",
              "        buttonEl.style.display =\n",
              "          google.colab.kernel.accessAllowed ? 'block' : 'none';\n",
              "\n",
              "        async function convertToInteractive(key) {\n",
              "          const element = document.querySelector('#df-ec755f86-bef0-4a0e-98d0-0c1a47989864');\n",
              "          const dataTable =\n",
              "            await google.colab.kernel.invokeFunction('convertToInteractive',\n",
              "                                                     [key], {});\n",
              "          if (!dataTable) return;\n",
              "\n",
              "          const docLinkHtml = 'Like what you see? Visit the ' +\n",
              "            '<a target=\"_blank\" href=https://colab.research.google.com/notebooks/data_table.ipynb>data table notebook</a>'\n",
              "            + ' to learn more about interactive tables.';\n",
              "          element.innerHTML = '';\n",
              "          dataTable['output_type'] = 'display_data';\n",
              "          await google.colab.output.renderOutput(dataTable, element);\n",
              "          const docLink = document.createElement('div');\n",
              "          docLink.innerHTML = docLinkHtml;\n",
              "          element.appendChild(docLink);\n",
              "        }\n",
              "      </script>\n",
              "    </div>\n",
              "  </div>\n",
              "  "
            ]
          },
          "metadata": {},
          "execution_count": 6
        }
      ]
    },
    {
      "cell_type": "code",
      "source": [
        "X = df[[ 'duration', 'credit_history', 'purpose',\n",
        "       'credit_amount', 'savings_status', 'employment',\n",
        "       'installment_commitment', 'personal_status', 'other_parties',\n",
        "       'residence_since', 'property_magnitude', 'age', 'other_payment_plans',\n",
        "       'housing', 'existing_credits', 'job', 'num_dependents', 'own_telephone',\n",
        "       'foreign_worker']].values\n",
        "y = df[\"class\"]"
      ],
      "metadata": {
        "id": "nBcIBPEetiuB"
      },
      "execution_count": 10,
      "outputs": []
    },
    {
      "cell_type": "code",
      "source": [
        "from sklearn.ensemble import RandomForestClassifier\n",
        "from sklearn.model_selection import train_test_split\n",
        "from sklearn.metrics import accuracy_score\n",
        "\n",
        "\n",
        "X_train, X_test, y_train, y_test = train_test_split(X, y, test_size=0.2, random_state=42)\n",
        "\n",
        "rf_classifier = RandomForestClassifier(n_estimators=100, max_depth=10)\n",
        "\n",
        "rf_classifier.fit(X_train, y_train)\n",
        "\n",
        "y_pred = rf_classifier.predict(X_test)\n",
        "accuracy = accuracy_score(y_test, y_pred)\n",
        "print(\"Accuracy: \", accuracy)\n",
        "\n"
      ],
      "metadata": {
        "id": "4aJ81d9qzfev"
      },
      "execution_count": null,
      "outputs": []
    },
    {
      "cell_type": "code",
      "source": [],
      "metadata": {
        "id": "wbEyKO0f6wdG"
      },
      "execution_count": null,
      "outputs": []
    }
  ]
}